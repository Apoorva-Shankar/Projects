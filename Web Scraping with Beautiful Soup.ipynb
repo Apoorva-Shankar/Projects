{
 "cells": [
  {
   "cell_type": "code",
   "execution_count": null,
   "metadata": {},
   "outputs": [],
   "source": [
    "# requests will allow us to make a web request\n",
    "import requests\n",
    "# BeautifulSoup will allow us to easily parse the website's HTML code\n",
    "from bs4 import BeautifulSoup"
   ]
  },
  {
   "cell_type": "code",
   "execution_count": null,
   "metadata": {},
   "outputs": [],
   "source": [
    "# Setup a list of lists to temporarily store the data\n",
    "my_list = [['Ep_Title','Rating','Season','Episode']]\n",
    "# Set a \"base\" URL that we can append onto\n",
    "base_url = \"https://www.imdb.com/title/tt0096697/episodes\"\n",
    "# Set the first URL that we hope to access\n",
    "next_url = \"https://www.imdb.com/title/tt0096697/episodes?season=1\"\n",
    "# Loop through three seasons of The Simpsons\n",
    "for season in range(1,4):\n",
    "    # Make an external web request and pull the website's code\n",
    "    source = requests.get(next_url).text\n",
    "    # Parse the website's code into a nested data structure\n",
    "    soup = BeautifulSoup(source, 'lxml')\n",
    "    temp = soup.find('h3',id='episode_top')\n",
    "    season_str=str(temp.string)\n",
    "    season_int=int(season_str[-1])\n",
    "    # After investigating the HTML code, I figured out where to find\n",
    "    # the rating, title, and episode for each episode.  So, I grabbed that data\n",
    "    # and then appended it to \"my_list\"\n",
    "    for episode in soup.find_all('div',class_=\"list_item odd\"):\n",
    "        rating = episode.find('span',class_=\"ipl-rating-star__rating\")\n",
    "        temp = episode.find('a')\n",
    "        title = temp.get('title')\n",
    "        ep = episode.meta['content']\n",
    "        my_list.append([title,float(rating.text),season_int,int(ep)])\n",
    "    # Do the same thing as above but for the \"even\" episodes on this page\n",
    "    for episode in soup.find_all('div',class_=\"list_item even\"):\n",
    "        rating = episode.find('span',class_=\"ipl-rating-star__rating\")\n",
    "        temp = episode.find('a')\n",
    "        title = temp.get('title')\n",
    "        ep = episode.meta['content']\n",
    "        my_list.append([title,float(rating.text),season_int,int(ep)])\n",
    "    # Update the web address for the next webpage to be accessed\n",
    "    # (There is a better way to do this using \"urllib.parse\")\n",
    "    next_url = base_url + soup.find(id='load_next_episodes').get('href')"
   ]
  },
  {
   "cell_type": "code",
   "execution_count": null,
   "metadata": {},
   "outputs": [],
   "source": [
    "import numpy as np\n",
    "import pandas as pd\n",
    "# Get the data into a pandas DataFrame\n",
    "col_headers = my_list.pop(0)\n",
    "df = pd.DataFrame(my_list, columns=col_headers)\n",
    "df"
   ]
  },
  {
   "cell_type": "code",
   "execution_count": null,
   "metadata": {},
   "outputs": [],
   "source": [
    "import pymysql\n",
    "pymysql.install_as_MySQLdb()\n",
    "%reload_ext sql\n",
    "%sql mysql://student:@localhost/\n",
    "%sql USE simpsons;"
   ]
  },
  {
   "cell_type": "code",
   "execution_count": null,
   "metadata": {},
   "outputs": [],
   "source": [
    "%%sql\n",
    "SELECT     *\n",
    "FROM       episodes\n",
    "WHERE      season <= 3\n",
    "LIMIT      5;"
   ]
  },
  {
   "cell_type": "code",
   "execution_count": null,
   "metadata": {},
   "outputs": [],
   "source": [
    "query_result = %sql SELECT * FROM episodes WHERE season <= 3;\n",
    "simpsons_df = query_result.DataFrame()\n",
    "simpsons_merged = pd.merge(simpsons_df, df, left_on=['season','number_in_season'], right_on=['Season','Episode'], how='inner')\n",
    "simpsons_merged[['title','original_air_date','season','number_in_season','Rating']]"
   ]
  },
  {
   "cell_type": "code",
   "execution_count": null,
   "metadata": {},
   "outputs": [],
   "source": [
    "simpsons_merged.groupby(['season']).size()"
   ]
  },
  {
   "cell_type": "code",
   "execution_count": null,
   "metadata": {},
   "outputs": [],
   "source": []
  }
 ],
 "metadata": {
  "kernelspec": {
   "display_name": "Python 3",
   "language": "python",
   "name": "python3"
  },
  "language_info": {
   "codemirror_mode": {
    "name": "ipython",
    "version": 3
   },
   "file_extension": ".py",
   "mimetype": "text/x-python",
   "name": "python",
   "nbconvert_exporter": "python",
   "pygments_lexer": "ipython3",
   "version": "3.8.5"
  }
 },
 "nbformat": 4,
 "nbformat_minor": 2
}
